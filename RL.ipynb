{
  "nbformat": 4,
  "nbformat_minor": 0,
  "metadata": {
    "colab": {
      "provenance": []
    },
    "kernelspec": {
      "name": "python3",
      "display_name": "Python 3"
    },
    "language_info": {
      "name": "python"
    }
  },
  "cells": [
    {
      "cell_type": "code",
      "source": [
        "!apt-get install git"
      ],
      "metadata": {
        "colab": {
          "base_uri": "https://localhost:8080/"
        },
        "id": "u93ikl5Q12gq",
        "outputId": "7dbf2926-1b3c-4e1e-8840-c1fa86924e42"
      },
      "execution_count": null,
      "outputs": [
        {
          "output_type": "stream",
          "name": "stdout",
          "text": [
            "Reading package lists... Done\n",
            "Building dependency tree... Done\n",
            "Reading state information... Done\n",
            "git is already the newest version (1:2.34.1-1ubuntu1.11).\n",
            "0 upgraded, 0 newly installed, 0 to remove and 45 not upgraded.\n"
          ]
        }
      ]
    },
    {
      "cell_type": "code",
      "source": [
        "!git clone https://github.com/AdityaAVG/RL-model.git"
      ],
      "metadata": {
        "colab": {
          "base_uri": "https://localhost:8080/"
        },
        "id": "Wv3TAx0X3Hz5",
        "outputId": "ac6c2338-6ebf-49aa-cac5-7baf9f4a21bb"
      },
      "execution_count": null,
      "outputs": [
        {
          "output_type": "stream",
          "name": "stdout",
          "text": [
            "Cloning into 'RL-model'...\n",
            "warning: You appear to have cloned an empty repository.\n"
          ]
        }
      ]
    },
    {
      "cell_type": "code",
      "source": [
        "!cp"
      ],
      "metadata": {
        "id": "aLzYv1S03bBr"
      },
      "execution_count": null,
      "outputs": []
    },
    {
      "cell_type": "code",
      "execution_count": null,
      "metadata": {
        "id": "w0LRgmLUx2Cl"
      },
      "outputs": [],
      "source": [
        "#Policy gradient learning\n",
        "#Goal is to optimize the policy directly of an agent to maximize cumulative rewards over time"
      ]
    },
    {
      "cell_type": "code",
      "source": [
        "import gym\n",
        "import torch\n",
        "import torch.nn as nn\n",
        "import torch.optim as optim\n",
        "import torch.nn.functional as F\n",
        "import numpy as np"
      ],
      "metadata": {
        "colab": {
          "base_uri": "https://localhost:8080/"
        },
        "id": "uL6yyAecx6fU",
        "outputId": "2287b166-51c3-4e45-a807-c1c05d210a33"
      },
      "execution_count": null,
      "outputs": [
        {
          "output_type": "stream",
          "name": "stderr",
          "text": [
            "/usr/local/lib/python3.10/dist-packages/ipykernel/ipkernel.py:283: DeprecationWarning: `should_run_async` will not call `transform_cell` automatically in the future. Please pass the result to `transformed_cell` argument and any exception that happen during thetransform in `preprocessing_exc_tuple` in IPython 7.17 and above.\n",
            "  and should_run_async(code)\n"
          ]
        }
      ]
    },
    {
      "cell_type": "code",
      "source": [
        "env=gym.make('CartPole-v1') #Here we are making an environment object\n"
      ],
      "metadata": {
        "colab": {
          "base_uri": "https://localhost:8080/"
        },
        "id": "2XPFNYcUx6i-",
        "outputId": "4a66ca47-f62f-4005-9ade-98d06012f947"
      },
      "execution_count": null,
      "outputs": [
        {
          "output_type": "stream",
          "name": "stderr",
          "text": [
            "/usr/local/lib/python3.10/dist-packages/gym/core.py:317: DeprecationWarning: \u001b[33mWARN: Initializing wrapper in old step API which returns one bool instead of two. It is recommended to set `new_step_api=True` to use new step API. This will be the default behaviour in future.\u001b[0m\n",
            "  deprecation(\n",
            "/usr/local/lib/python3.10/dist-packages/gym/wrappers/step_api_compatibility.py:39: DeprecationWarning: \u001b[33mWARN: Initializing environment in old step API which returns one bool instead of two. It is recommended to set `new_step_api=True` to use new step API. This will be the default behaviour in future.\u001b[0m\n",
            "  deprecation(\n"
          ]
        }
      ]
    },
    {
      "cell_type": "code",
      "source": [
        "env\n"
      ],
      "metadata": {
        "colab": {
          "base_uri": "https://localhost:8080/"
        },
        "id": "N4BdkKa2x6ma",
        "outputId": "ad302a5d-0170-481d-8818-7fc83d9dcae1"
      },
      "execution_count": null,
      "outputs": [
        {
          "output_type": "stream",
          "name": "stderr",
          "text": [
            "/usr/local/lib/python3.10/dist-packages/ipykernel/ipkernel.py:283: DeprecationWarning: `should_run_async` will not call `transform_cell` automatically in the future. Please pass the result to `transformed_cell` argument and any exception that happen during thetransform in `preprocessing_exc_tuple` in IPython 7.17 and above.\n",
            "  and should_run_async(code)\n"
          ]
        },
        {
          "output_type": "execute_result",
          "data": {
            "text/plain": [
              "<TimeLimit<OrderEnforcing<StepAPICompatibility<PassiveEnvChecker<CartPoleEnv<CartPole-v1>>>>>>"
            ]
          },
          "metadata": {},
          "execution_count": 6
        }
      ]
    },
    {
      "cell_type": "code",
      "source": [
        "state_dim=env.observation_space.shape[0]\n",
        "action_dim=env.action_space.n"
      ],
      "metadata": {
        "colab": {
          "base_uri": "https://localhost:8080/"
        },
        "id": "EC_tTazMx6pf",
        "outputId": "236ee8d2-a5d8-4e2d-a9e3-3c1ff43f0453"
      },
      "execution_count": null,
      "outputs": [
        {
          "output_type": "stream",
          "name": "stderr",
          "text": [
            "/usr/local/lib/python3.10/dist-packages/ipykernel/ipkernel.py:283: DeprecationWarning: `should_run_async` will not call `transform_cell` automatically in the future. Please pass the result to `transformed_cell` argument and any exception that happen during thetransform in `preprocessing_exc_tuple` in IPython 7.17 and above.\n",
            "  and should_run_async(code)\n"
          ]
        }
      ]
    },
    {
      "cell_type": "code",
      "source": [
        "print(state_dim)\n",
        "print(action_dim)"
      ],
      "metadata": {
        "colab": {
          "base_uri": "https://localhost:8080/"
        },
        "id": "6s_BTz4rx6sj",
        "outputId": "f3ff627f-4aeb-4208-e1d7-d210d94a62dd"
      },
      "execution_count": null,
      "outputs": [
        {
          "output_type": "stream",
          "name": "stdout",
          "text": [
            "4\n",
            "2\n"
          ]
        }
      ]
    },
    {
      "cell_type": "code",
      "source": [
        "#For RL we provide our environment as an input and get probabilities as output\n",
        "class PolicyNetwork(nn.Module):\n",
        "  def __init__(self,state_dim,action_dim):\n",
        "    super(PolicyNetwork,self).__init__()\n",
        "    self.linear1=nn.Linear(state_dim,128) #Linear layers function same as the fully connected layers.\n",
        "    self.relu=nn.ReLU()\n",
        "    self.linear2=nn.Linear(128,action_dim)\n",
        "    self.softmax=nn.Softmax(dim=-1) # We want to apply softmax to the last dimension that's why .Although it will work without this also .\n",
        "  def forward(self,state): # We are taking state because it is an input.\n",
        "    state=self.linear1(state)\n",
        "    state=self.relu(state)\n",
        "    state=self.linear2(state)\n",
        "    state=self.softmax(state) #Gives out the probability\n",
        "    return state\n"
      ],
      "metadata": {
        "colab": {
          "base_uri": "https://localhost:8080/"
        },
        "id": "GlI3mwvux6ve",
        "outputId": "bac83792-bc49-4688-acc8-e15e4ac72560"
      },
      "execution_count": null,
      "outputs": [
        {
          "output_type": "stream",
          "name": "stderr",
          "text": [
            "/usr/local/lib/python3.10/dist-packages/ipykernel/ipkernel.py:283: DeprecationWarning: `should_run_async` will not call `transform_cell` automatically in the future. Please pass the result to `transformed_cell` argument and any exception that happen during thetransform in `preprocessing_exc_tuple` in IPython 7.17 and above.\n",
            "  and should_run_async(code)\n"
          ]
        }
      ]
    },
    {
      "cell_type": "code",
      "source": [
        "policy=PolicyNetwork(state_dim,action_dim)\n",
        "optimizer=optim.Adam(policy.parameters(),lr=0.003)"
      ],
      "metadata": {
        "id": "rLtA0bOMx6yY"
      },
      "execution_count": null,
      "outputs": []
    },
    {
      "cell_type": "code",
      "source": [
        "def select_action(state):\n",
        "  state=torch.from_numpy(state).float().unsqueeze(0)\n",
        "  action_prob=policy(state)\n",
        "  action=torch.multinomial(action_prob,num_samples=1) #It is returns the actual action by probabilities\n",
        "  log_prob=torch.log(action_prob[0,action])\n",
        "  return action.item(),log_prob"
      ],
      "metadata": {
        "id": "cdvSwhlCx61X"
      },
      "execution_count": null,
      "outputs": []
    },
    {
      "cell_type": "code",
      "source": [
        "def compute_returns(rewards,gamma=0.99):   #Cumulative rewards or the total amount of rewards earned by the agent over the time. Gamma is the discount factor (a float)\n",
        "     returns=[]\n",
        "     R=0\n",
        "     for r in rewards[::-1]:   # We have reversed the list\n",
        "      R=r+gamma*R\n",
        "      returns.insert(0,R) #Inserting R at 0th index\n",
        "     return returns\n",
        "\n"
      ],
      "metadata": {
        "id": "vOV6YpPpx64W"
      },
      "execution_count": null,
      "outputs": []
    },
    {
      "cell_type": "code",
      "source": [
        "# Training the model\n",
        "num_episodes=1000  #It is actually the number of times the agent will interact with the environment to learn from it .\n",
        "total_rewards=[]\n",
        "for episode in range(num_episodes):\n",
        "  state=env.reset()  #Initializes the environment to initial stage\n",
        "  rewards=[]\n",
        "  log_probs=[]\n",
        "  for t in range(1000): #The max value but can break in between as well.  #From this block we will get the rewards which we will pass to compute the total rewards earned by agent over the time.\n",
        "    action,log_prob=select_action(state)\n",
        "    state,reward,done,_= env.step(action)  #This will actually step an action on env and gives the next or subsequent state,the reward we got here and whether or not the program is done running .\n",
        "    rewards.append(reward)\n",
        "    log_probs.append(log_prob)\n",
        "    if done:\n",
        "      break\n",
        "\n",
        "  total_rewards.append(sum(rewards))\n",
        "  returns=compute_returns(rewards)\n",
        "  returns=torch.tensor(returns)\n",
        "\n",
        "  policy_loss=[]\n",
        "  for log_prob,R in zip(log_probs,returns):  #Combining two lists parallely having probability and the reward\n",
        "    policy_loss.append(-log_prob*R)\n",
        "  policy_loss=torch.stack(policy_loss).sum()  #This sums up the policy loss across all timestamps and turns it into scalar value\n",
        "  optimizer.zero_grad()\n",
        "  policy_loss.backward()\n",
        "  optimizer.step()\n",
        "\n",
        "  if episode % 100 ==0:\n",
        "    print ('Episode:{} Total Reward:{} Length: {}\\t'.format(episode,total_rewards[-1],t))\n",
        "\n",
        "\n"
      ],
      "metadata": {
        "colab": {
          "base_uri": "https://localhost:8080/"
        },
        "id": "qIOiMj9Ax67T",
        "outputId": "c7288bb6-daea-4a76-cab7-fc1c9780aba7"
      },
      "execution_count": null,
      "outputs": [
        {
          "output_type": "stream",
          "name": "stderr",
          "text": [
            "/usr/local/lib/python3.10/dist-packages/ipykernel/ipkernel.py:283: DeprecationWarning: `should_run_async` will not call `transform_cell` automatically in the future. Please pass the result to `transformed_cell` argument and any exception that happen during thetransform in `preprocessing_exc_tuple` in IPython 7.17 and above.\n",
            "  and should_run_async(code)\n"
          ]
        },
        {
          "output_type": "stream",
          "name": "stdout",
          "text": [
            "Episode:0 Total Reward:16.0 Length: 15\t\n",
            "Episode:100 Total Reward:82.0 Length: 81\t\n",
            "Episode:200 Total Reward:268.0 Length: 267\t\n",
            "Episode:300 Total Reward:119.0 Length: 118\t\n",
            "Episode:400 Total Reward:136.0 Length: 135\t\n",
            "Episode:500 Total Reward:500.0 Length: 499\t\n",
            "Episode:600 Total Reward:253.0 Length: 252\t\n",
            "Episode:700 Total Reward:112.0 Length: 111\t\n",
            "Episode:800 Total Reward:134.0 Length: 133\t\n",
            "Episode:900 Total Reward:210.0 Length: 209\t\n"
          ]
        }
      ]
    },
    {
      "cell_type": "code",
      "source": [
        "import matplotlib.pyplot as plt\n",
        "plt.plot(total_rewards)\n",
        "plt.xlabel(\"Episodes\")\n",
        "plt.ylabel(\"Total Rewards\")\n",
        "plt.title(\"Total Rewards per episode\")\n",
        "plt.show()"
      ],
      "metadata": {
        "colab": {
          "base_uri": "https://localhost:8080/",
          "height": 472
        },
        "id": "mBIQe5FEx6-R",
        "outputId": "69f1630c-2823-48e5-e3c8-11739262da5a"
      },
      "execution_count": null,
      "outputs": [
        {
          "output_type": "display_data",
          "data": {
            "text/plain": [
              "<Figure size 640x480 with 1 Axes>"
            ],
            "image/png": "[encoded data removed]"
          },
          "metadata": {}
        }
      ]
    },
    {
      "cell_type": "code",
      "source": [
        "!apt-get update\n",
        "!apt-get install -y xvfb #This creates a virtual display in the memory\n",
        "!apt-get install -y python-opengl\n",
        "!pip install gym pyvirtualdisplay\n"
      ],
      "metadata": {
        "colab": {
          "base_uri": "https://localhost:8080/"
        },
        "id": "Z_60v23Dx7A1",
        "outputId": "0332dd2c-08f0-4055-b170-c5d3966a4794"
      },
      "execution_count": null,
      "outputs": [
        {
          "output_type": "stream",
          "name": "stderr",
          "text": [
            "/usr/local/lib/python3.10/dist-packages/ipykernel/ipkernel.py:283: DeprecationWarning: `should_run_async` will not call `transform_cell` automatically in the future. Please pass the result to `transformed_cell` argument and any exception that happen during thetransform in `preprocessing_exc_tuple` in IPython 7.17 and above.\n",
            "  and should_run_async(code)\n"
          ]
        },
        {
          "output_type": "stream",
          "name": "stdout",
          "text": [
            "\r0% [Working]\r            \rHit:1 http://archive.ubuntu.com/ubuntu jammy InRelease\n",
            "\r0% [Connecting to security.ubuntu.com (185.125.190.82)] [Waiting for headers] [Connecting to ppa.lau\r                                                                                                    \rHit:2 https://cloud.r-project.org/bin/linux/ubuntu jammy-cran40/ InRelease\n",
            "\r0% [Waiting for headers] [Connecting to security.ubuntu.com (185.125.190.82)] [Connecting to ppa.lau\r                                                                                                    \rHit:3 http://archive.ubuntu.com/ubuntu jammy-updates InRelease\n",
            "\r0% [Waiting for headers] [Waiting for headers] [Connecting to ppa.launchpadcontent.net (185.125.190.\r                                                                                                    \rHit:4 https://developer.download.nvidia.com/compute/cuda/repos/ubuntu2204/x86_64  InRelease\n",
            "\r0% [Waiting for headers] [Waiting for headers] [Connecting to ppa.launchpadcontent.net (185.125.190.\r                                                                                                    \rHit:5 http://archive.ubuntu.com/ubuntu jammy-backports InRelease\n",
            "Hit:6 http://security.ubuntu.com/ubuntu jammy-security InRelease\n",
            "Hit:7 https://ppa.launchpadcontent.net/c2d4u.team/c2d4u4.0+/ubuntu jammy InRelease\n",
            "Hit:8 https://ppa.launchpadcontent.net/deadsnakes/ppa/ubuntu jammy InRelease\n",
            "Hit:9 https://ppa.launchpadcontent.net/graphics-drivers/ppa/ubuntu jammy InRelease\n",
            "Hit:10 https://ppa.launchpadcontent.net/ubuntugis/ppa/ubuntu jammy InRelease\n",
            "Reading package lists... Done\n",
            "Reading package lists... Done\n",
            "Building dependency tree... Done\n",
            "Reading state information... Done\n",
            "xvfb is already the newest version (2:21.1.4-2ubuntu1.7~22.04.11).\n",
            "0 upgraded, 0 newly installed, 0 to remove and 52 not upgraded.\n",
            "Reading package lists... Done\n",
            "Building dependency tree... Done\n",
            "Reading state information... Done\n",
            "E: Unable to locate package python-opengl\n",
            "Requirement already satisfied: gym in /usr/local/lib/python3.10/dist-packages (0.25.2)\n",
            "Collecting pyvirtualdisplay\n",
            "  Downloading PyVirtualDisplay-3.0-py3-none-any.whl (15 kB)\n",
            "Requirement already satisfied: numpy>=1.18.0 in /usr/local/lib/python3.10/dist-packages (from gym) (1.25.2)\n",
            "Requirement already satisfied: cloudpickle>=1.2.0 in /usr/local/lib/python3.10/dist-packages (from gym) (2.2.1)\n",
            "Requirement already satisfied: gym-notices>=0.0.4 in /usr/local/lib/python3.10/dist-packages (from gym) (0.0.8)\n",
            "Installing collected packages: pyvirtualdisplay\n",
            "Successfully installed pyvirtualdisplay-3.0\n"
          ]
        }
      ]
    },
    {
      "cell_type": "code",
      "source": [
        "from IPython import display as ipythondisplay\n",
        "from pyvirtualdisplay import Display\n",
        "display = Display(visible=0, size=(400, 300))\n",
        "display.start()"
      ],
      "metadata": {
        "colab": {
          "base_uri": "https://localhost:8080/"
        },
        "id": "209ssEE_x7Da",
        "outputId": "72fef5b6-176b-4260-a361-32090b450656"
      },
      "execution_count": null,
      "outputs": [
        {
          "output_type": "stream",
          "name": "stderr",
          "text": [
            "/usr/local/lib/python3.10/dist-packages/ipykernel/ipkernel.py:283: DeprecationWarning: `should_run_async` will not call `transform_cell` automatically in the future. Please pass the result to `transformed_cell` argument and any exception that happen during thetransform in `preprocessing_exc_tuple` in IPython 7.17 and above.\n",
            "  and should_run_async(code)\n"
          ]
        },
        {
          "output_type": "execute_result",
          "data": {
            "text/plain": [
              "<pyvirtualdisplay.display.Display at 0x7ef4e392b460>"
            ]
          },
          "metadata": {},
          "execution_count": 34
        }
      ]
    },
    {
      "cell_type": "code",
      "source": [
        "state=env.reset()\n",
        "img=plt.imshow(env.render(mode='rgb_array'))\n",
        "\n",
        "#Random visualization\n",
        "for t in range(1000):\n",
        "  img.set_data(env.render(mode='rgb_array'))\n",
        "  ipythondisplay.display(plt.gcf())\n",
        "  ipythondisplay.clear_output(wait=True)\n",
        "  #Taking a random action\n",
        "  action=env.action_space.sample()\n",
        "  state,reward,done,_=env.step(action)\n",
        "  if done:\n",
        "    break"
      ],
      "metadata": {
        "colab": {
          "base_uri": "https://localhost:8080/",
          "height": 396
        },
        "id": "z2lJENnWx7F2",
        "outputId": "6d7041ea-81dc-4081-add8-f557733408f1"
      },
      "execution_count": null,
      "outputs": [
        {
          "output_type": "display_data",
          "data": {
            "text/plain": [
              "<Figure size 640x480 with 1 Axes>"
            ],
            "image/png": "[encoded data removed]"
          },
          "metadata": {}
        }
      ]
    },
    {
      "cell_type": "code",
      "source": [
        "#Changing the action (not taking a random action)\n",
        "state=env.reset()\n",
        "img=plt.imshow(env.render(mode='rgb_array'))\n",
        "\n",
        "#Random visualization\n",
        "for t in range(1000):\n",
        "  img.set_data(env.render(mode='rgb_array'))\n",
        "  ipythondisplay.display(plt.gcf())\n",
        "  ipythondisplay.clear_output(wait=True)\n",
        "  state_tensor=torch.from_numpy(state).float().unsqueeze(0)\n",
        "  action_prob=policy(state_tensor)\n",
        "  action=torch.multinomial(action_prob,num_samples=1)\n",
        "  action=action.item()\n",
        "  state,reward,done,_=env.step(action)\n",
        "  if done:\n",
        "    break"
      ],
      "metadata": {
        "colab": {
          "base_uri": "https://localhost:8080/",
          "height": 396
        },
        "id": "mano9q6cx7IR",
        "outputId": "0bec20a9-9376-4dbc-87d4-8868f0d5743f"
      },
      "execution_count": null,
      "outputs": [
        {
          "output_type": "display_data",
          "data": {
            "text/plain": [
              "<Figure size 640x480 with 1 Axes>"
            ],
            "image/png": "[encoded data removed]"
          },
          "metadata": {}
        }
      ]
    },
    {
      "cell_type": "code",
      "source": [],
      "metadata": {
        "id": "eivJ_Mjzx7Ky"
      },
      "execution_count": null,
      "outputs": []
    },
    {
      "cell_type": "code",
      "source": [],
      "metadata": {
        "id": "vnU1BCFGx7NW"
      },
      "execution_count": null,
      "outputs": []
    },
    {
      "cell_type": "code",
      "source": [],
      "metadata": {
        "id": "-kXOe704x7Pw"
      },
      "execution_count": null,
      "outputs": []
    }
  ]
}